{
 "cells": [
  {
   "cell_type": "code",
   "execution_count": 1,
   "metadata": {},
   "outputs": [],
   "source": [
    "import tracemalloc"
   ]
  },
  {
   "cell_type": "markdown",
   "metadata": {},
   "source": [
    "# Load Database"
   ]
  },
  {
   "cell_type": "code",
   "execution_count": 2,
   "metadata": {},
   "outputs": [],
   "source": [
    "path = \"datasets/\"\n",
    "datasets = [\n",
    "    \"accidents_utility.txt\",        # 0\n",
    "    \"chainstore_utility.txt\",       # 1\n",
    "    \"chess_utility.txt\",            # 2\n",
    "    \"connect_utility.txt\",          # 3\n",
    "    \"kosarak_utility.txt\",          # 4\n",
    "    \"mushroom_utility.txt\"          # 5\n",
    "]"
   ]
  },
  {
   "cell_type": "code",
   "execution_count": 3,
   "metadata": {},
   "outputs": [],
   "source": [
    "database = []\n",
    "trans = []\n",
    "dtb_idx = 2\n",
    "with open(path + datasets[dtb_idx], \"r\") as reader:\n",
    "    lines = reader.readlines()\n",
    "    for line in lines:\n",
    "        line = line.split(\":\")\n",
    "        items = [int(it) for it in line[0].split(\" \")]\n",
    "        uT = int(line[1])\n",
    "        itemU = [int(u) for u in line[2].split(\" \")]\n",
    "        trans = [items, uT, itemU]\n",
    "        database.append(trans)"
   ]
  },
  {
   "cell_type": "code",
   "execution_count": 4,
   "metadata": {},
   "outputs": [
    {
     "data": {
      "text/plain": [
       "3196"
      ]
     },
     "execution_count": 4,
     "metadata": {},
     "output_type": "execute_result"
    }
   ],
   "source": [
    "len(database)"
   ]
  },
  {
   "cell_type": "markdown",
   "metadata": {},
   "source": [
    "# Preliminaries"
   ]
  },
  {
   "cell_type": "code",
   "execution_count": 5,
   "metadata": {},
   "outputs": [],
   "source": [
    "from collections import defaultdict"
   ]
  },
  {
   "cell_type": "code",
   "execution_count": 6,
   "metadata": {},
   "outputs": [],
   "source": [
    "distinct_items = []\n",
    "U = defaultdict()\n",
    "TWU = defaultdict()\n",
    "SUP = defaultdict()\n",
    "\n",
    "for transaction in database:\n",
    "    for i, item in enumerate(transaction[0]):\n",
    "        if item in distinct_items:\n",
    "            U[item] += transaction[2][i]\n",
    "            TWU[item] += transaction[1]\n",
    "            SUP[item] += 1  \n",
    "        else:\n",
    "            distinct_items.append(item)   \n",
    "            U[item] = transaction[2][i]\n",
    "            TWU[item] = transaction[1]\n",
    "            SUP[item] = 1  "
   ]
  },
  {
   "cell_type": "code",
   "execution_count": 7,
   "metadata": {},
   "outputs": [],
   "source": [
    "ikeep = [] \n",
    "minCor = 0.86\n",
    "minUtil = 600000"
   ]
  },
  {
   "cell_type": "markdown",
   "metadata": {},
   "source": [
    "# SearchCoHUI"
   ]
  },
  {
   "cell_type": "code",
   "execution_count": 8,
   "metadata": {},
   "outputs": [],
   "source": [
    "def search_cohui(itemset_x, ux, rux, db_project_x, k):\n",
    "     '''\n",
    "     @func: SearchCoHUI\n",
    "     @param: \n",
    "     - itemset_x: prefix itemset\n",
    "     - U(X): utility of X\n",
    "     - RU(X): the remain utility of X\n",
    "     - db_project_x : projected database with X prefix\n",
    "     - k: length of items set X.\n",
    "     @return:  CoHUIs\n",
    "     '''\n",
    "     cohuis = []\n",
    "     global ikeep\n",
    "     # 1. for i = k to |I keep| do \n",
    "     for i in range(k, len(ikeep)):\n",
    "          # 2. LastItem = Ikeep[i]\n",
    "          # LastItem is an item that is extended from X itemset.\n",
    "          last_item = ikeep[i]\n",
    "\n",
    "          #  3.  X' =  X joins LastItem; X': extended from X by 'LastItem'\n",
    "          x_extend = itemset_x.copy()\n",
    "          x_extend.append(last_item)\n",
    "          #  4. Initial U(X') = U(X); RU(X') = 0;\n",
    "          #  SUP(X') = 0; ULA = U(X) + RU(X)\n",
    "          ux_extend = ux\n",
    "          rux_extend = 0\n",
    "          supx_extend = 0\n",
    "          ULA = ux + rux\n",
    "          \n",
    "          #  5. for T in project database \n",
    "          db_project_xtend = []\n",
    "          for trans in db_project_x:\n",
    "               # 6. set j = 0, xj in T\n",
    "               j = 0\n",
    "               u_temp = trans[1]\n",
    "               # utemp = uT\n",
    "               if last_item not in trans[0]:\n",
    "                    continue\n",
    "               # 8. while (j < T.len AND lastItem is after xj)\n",
    "               while j < len(trans[0]) and \\\n",
    "               trans[0].index(trans[0][j]) < trans[0].index(last_item):\n",
    "                    # 9. decrement uTemp by xj util\n",
    "                    u_temp -= trans[2][j]\n",
    "                    # incre j by 1\n",
    "                    j+=1\n",
    "\n",
    "               # 12 if (j == |T| OR last item is after x_j)\n",
    "               if j == len(trans[0]) or trans[0].index(trans[0][j]) > trans[0].index(last_item):\n",
    "                    # 13. Decrement U(X') by pru(T);\n",
    "                    ux_extend -= trans[3]\n",
    "                    # 14. Decrement ULA by (pru(T) + uT(T))\n",
    "                    ULA -= (trans[3] + trans[1])\n",
    "                    # 15. if ULA < minUtil then return;//LA-Prune\n",
    "                    if ULA < minUtil:\n",
    "                         # 16. Continue; if Xextend is not in T, then decrease ULA\n",
    "                         # once ULA < minUtil stop the the projection with Xtend with return\n",
    "                         break # TODO continue next item in ikeep\n",
    "\n",
    "               else: # 17. else \n",
    "                    # 18 Increment U(X') by u(xj; T)\n",
    "                    ux_extend += trans[2][j]\n",
    "                    # 19 Increment SUP(X') by 1;\n",
    "                    supx_extend += 1\n",
    "                    # 20 if j < |T| then\n",
    "                    if j < len(trans[0]):\n",
    "                         # Calculate projected transaction with X'\n",
    "                         # 21. T\\X' = T.Get(j + 1, |T|)\n",
    "                         # 22. pru(T\\X') = (pru(T) + u(xj,T))\n",
    "                         # 23. uT(T\\X') = uTemp\n",
    "                         new_trans = [\n",
    "                              trans[0][j+1:], # 21\n",
    "                              u_temp, # 22\n",
    "                              trans[2][j+1:], \n",
    "                              trans[3] + trans[0][j]# 22\n",
    "                         ]\n",
    "                         # 24. dbProjectX' :add(newTran)\n",
    "                         db_project_xtend.append(new_trans)\n",
    "                         # 25. Increment RU(X') by uTemp;\n",
    "                         rux_extend += u_temp\n",
    "\n",
    "          \n",
    "          if supx_extend > 0:\n",
    "               kulc = (1/len(x_extend))*sum([supx_extend/SUP[it] for it in x_extend])\n",
    "               if kulc >= minCor:\n",
    "                    if ux_extend >= minUtil:                       \n",
    "                         cohuis.append(x_extend + [[kulc], sum([U[it] for it in x_extend])])\n",
    "               \n",
    "                    if (ux_extend + rux_extend > minUtil):\n",
    "                         cohuis += search_cohui(itemset_x=x_extend, ux=ux_extend, rux=ux_extend, db_project_x=db_project_xtend, k=k+1)\n",
    "          \n",
    "     return cohuis\n",
    "    "
   ]
  },
  {
   "cell_type": "markdown",
   "metadata": {},
   "source": [
    "# CoHUI-Miner"
   ]
  },
  {
   "cell_type": "code",
   "execution_count": 9,
   "metadata": {},
   "outputs": [],
   "source": [
    "def cohui_miner(database, min_corr, min_util):\n",
    "    '''\n",
    "    @function: runCoHUIMiner: this function is used to run the correlated high-utility itemsets-Miner\n",
    "         in which has some improvements comparing to its predecessor\n",
    "    @param D transactional database\n",
    "    @param minCor user-specified minimum correlation threshold\n",
    "    @param minUtil user-specified minimum utility threshold\n",
    "    @return: set of all correlated HUIs.\n",
    "    '''\n",
    "    cohuis = []\n",
    "    global ikeep\n",
    "    # 1. scan database for SUP, TWU, U\n",
    "\n",
    "    # 2. construct I_keep = {i in Ikeep| TWU(i) >= minUtil}\n",
    "    for item in distinct_items:\n",
    "        if TWU[item] > min_util:\n",
    "            ikeep.append(item) \n",
    "        else:\n",
    "            # 3.update SUP, U in database \n",
    "            # (1) SUP = {SUP(i) | i in IKeep}\n",
    "            # (2) U(i) = {U(i) | i in IKeep}    \n",
    "            SUP.pop(item)\n",
    "            U.pop(item)\n",
    "\n",
    "    # 3.update SUP, U in database \n",
    "    # (3): Eliminate i from database D if i not in Ikeep    \n",
    "    for trans in database:\n",
    "        rmv_idx = []\n",
    "        for idx in range(len(trans[0])):\n",
    "            if trans[0][idx] in ikeep:\n",
    "                continue\n",
    "            else:\n",
    "                rmv_idx += [idx]\n",
    "        rmv_idx.sort(reverse=True)\n",
    "        for idx in rmv_idx:\n",
    "            trans[0].pop(idx)\n",
    "            trans[2].pop(idx)\n",
    "    \n",
    "    # 4.1 sort Ikeep in the increasing order of SUP and \n",
    "    # 4.2 sort items of all transactions in D with respect to I keep \n",
    "    ikeep = sorted(ikeep, key=lambda x: SUP[x])\n",
    "    for trans in database:\n",
    "        itu = sorted(zip(trans[0], trans[2]), key= lambda x: SUP[x[0]])    \n",
    "        trans[0] = [it for it,_ in itu]\n",
    "        trans[2] = [u for _,u in itu]\n",
    "    \n",
    "    #  5. for each item X in Ikeep do\n",
    "    for item_x in ikeep:\n",
    "        db_project_x = []\n",
    "        # 6. if U(X) > minUtil then \n",
    "        if U[item_x] > min_util:\n",
    "            # 7. add X to CoHUIs\n",
    "            cohuis.append(set(item_x))\n",
    "        #  8. end if\n",
    "        #  9. set RU(X) = 0\n",
    "        ru_x = 0\n",
    "        # 10. for each T in D do\n",
    "        for trans in database:\n",
    "            # 11. set j = 0; x_j in T; uTemp = u(T)\n",
    "            j = 0\n",
    "            u_temp = trans[1]\n",
    "\n",
    "            # 12. while (j < |T| AND item X is after x_j) do\n",
    "            if item_x not in trans[0]:\n",
    "                continue # a quick check to process this transaction or not\n",
    "\n",
    "            while j < len(trans[0]) and \\\n",
    "            trans[0].index(trans[0][j]) < trans[0].index(item_x):\n",
    "                # 13. decrement uTemp by u(xj, T)\n",
    "                u_temp -= trans[2][j]\n",
    "                #  14. increment j by 1\n",
    "                j += 1\n",
    "                #  15. end while\n",
    "\n",
    "            # 16. if (j == len(T.items) OR item x_j is after item X) \n",
    "            # then continue\n",
    "            if j == len(trans[0]) or trans[0].index(trans[0][j]) > trans[0].index(item_x):\n",
    "                continue\n",
    "\n",
    "            # 17. else if (j < len(T.items)) then calculate projected transaction\n",
    "            if j < len(trans[0]):\n",
    "                # 18. initial T\\X = T.Get(j + 1, |T|)\n",
    "                # 19. PRU(T\\X) = u(xj,T)\n",
    "                # 20. uT(T\\X) = uTemp\n",
    "                new_trans = [\n",
    "                    trans[0][j+1:], # 18\n",
    "                    u_temp, # 20\n",
    "                    trans[2][j+1:], \n",
    "                    trans[0][j] # 19\n",
    "                ]\n",
    "                # 21. dbProjectX.add(newTran)\n",
    "                db_project_x.append(new_trans)\n",
    "                #  22. Increment RU(X) by uTemp\n",
    "                ru_x += u_temp\n",
    "                # 23. end if \n",
    "            # 24. end for\n",
    "        # 25. SearchCoHUI(X, U(X), RU(X), dbProjectX, 1)\n",
    "        cohuis += search_cohui(itemset_x=[item_x], ux=U[item_x], rux=ru_x, db_project_x=db_project_x, k=1)\n",
    "        # 26. end for\n",
    "    return cohuis"
   ]
  },
  {
   "cell_type": "markdown",
   "metadata": {},
   "source": [
    "# main"
   ]
  },
  {
   "cell_type": "code",
   "execution_count": 10,
   "metadata": {},
   "outputs": [],
   "source": [
    "tracemalloc.start()\n",
    "result = cohui_miner(database=database, min_corr=minCor, min_util=minUtil)\n",
    "first_peak, first_size = tracemalloc.get_traced_memory()"
   ]
  },
  {
   "cell_type": "code",
   "execution_count": 11,
   "metadata": {},
   "outputs": [],
   "source": [
    "with open(\"pyout.txt\", \"w\") as writer:\n",
    "    writer.write(f\"database {datasets[dtb_idx]}\\n\")\n",
    "    writer.write(f\"cohui_miner [min_corr: {minCor}, min_util: {minUtil}]\\n\")\n",
    "    writer.write(f\"no. cohuis found: {len(result)}\\n\")\n",
    "    for cohui in result:\n",
    "        writer.write(cohui.__str__() + \"\\n\")"
   ]
  },
  {
   "cell_type": "code",
   "execution_count": 12,
   "metadata": {},
   "outputs": [
    {
     "name": "stdout",
     "output_type": "stream",
     "text": [
      "MEMORY USED IN MB: -7.29\n"
     ]
    }
   ],
   "source": [
    "BYTE_PER_MEGABYTE = 1024 * 1024\n",
    "mem = (first_peak - first_size) / BYTE_PER_MEGABYTE\n",
    "print(f\"MEMORY USED IN MB: {mem:.2f}\")"
   ]
  }
 ],
 "metadata": {
  "kernelspec": {
   "display_name": "Python 3 (ipykernel)",
   "language": "python",
   "name": "python3"
  },
  "language_info": {
   "codemirror_mode": {
    "name": "ipython",
    "version": 3
   },
   "file_extension": ".py",
   "mimetype": "text/x-python",
   "name": "python",
   "nbconvert_exporter": "python",
   "pygments_lexer": "ipython3",
   "version": "3.10.6"
  },
  "vscode": {
   "interpreter": {
    "hash": "27f6fea6f47ae512550f0b8facdbd035a93e1dd89633f7bf2dd00a2502c71d0d"
   }
  }
 },
 "nbformat": 4,
 "nbformat_minor": 2
}
